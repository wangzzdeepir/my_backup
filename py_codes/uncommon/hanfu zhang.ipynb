{
 "cells": [
  {
   "cell_type": "code",
   "execution_count": 27,
   "metadata": {
    "collapsed": false
   },
   "outputs": [
    {
     "name": "stdout",
     "output_type": "stream",
     "text": [
      "13636\n",
      "done (13637, 3)\n"
     ]
    }
   ],
   "source": [
    "import scipy.io as sio\n",
    "import numpy as np\n",
    "infile = open('/home/deep/Downloads/list')\n",
    "ofile = open('/home/deep/Downloads/list2')\n",
    "outmat = np.zeros(shape = (13637,3))\n",
    "for i,line in enumerate(infile):\n",
    "    info = line.strip().split(' ',4)[1:4]\n",
    "    for j in xrange(2):\n",
    "        outmat[i,j] = info[j]\n",
    "infile.close()\n",
    "sio.savemat('list.mat',{'list':outmat})"
   ]
  }
 ],
 "metadata": {
  "kernelspec": {
   "display_name": "Python 2",
   "language": "python",
   "name": "python2"
  },
  "language_info": {
   "codemirror_mode": {
    "name": "ipython",
    "version": 2
   },
   "file_extension": ".py",
   "mimetype": "text/x-python",
   "name": "python",
   "nbconvert_exporter": "python",
   "pygments_lexer": "ipython2",
   "version": "2.7.6"
  }
 },
 "nbformat": 4,
 "nbformat_minor": 1
}
