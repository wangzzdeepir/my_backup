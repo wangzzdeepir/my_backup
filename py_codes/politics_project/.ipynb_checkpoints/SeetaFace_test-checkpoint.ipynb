{
 "cells": [
  {
   "cell_type": "code",
   "execution_count": 3,
   "metadata": {
    "collapsed": false
   },
   "outputs": [],
   "source": [
    "#/usr/bin/python\n",
    "\"\"\"This cell ......\n",
    "\n",
    "\"\"\"\n",
    "\n",
    "import os\n",
    "import numpy as np\n",
    "\n",
    "img_path = '/home/deep/Documents/zongzuo/c++codes/c++learning/1.jpg'\n",
    "def getSeetaFeature(img_path):\n",
    "    oStdout = os.popen('/home/deep/develop/SeetaFaceEngine-master/FaceIdentification/build/src/test/test_face_recognizer.bin'+' '+img_path)  \n",
    "    vectorlist = []\n",
    "    for line in oStdout.readlines():\n",
    "        line = line.strip()\n",
    "        if line.count(' ') == 2047:\n",
    "            featlist = []\n",
    "            featlist = line.split(' ', 2047)\n",
    "            vectorlist.append(np.asarray(featlist).astype('float64'))\n",
    "    return vectorlist\n",
    "\n",
    "def CalcSimilarity(feat1, feat2):\n",
    "    feat1 = feat1.reshape((1, feat1.shape[0]))\n",
    "    feat2 = feat2.reshape((1, feat2.shape[0]))\n",
    "    return float(np.dot(feat1, feat2.T) / (np.sqrt(np.dot(feat1, feat1.T)) * np.sqrt(np.dot(feat2, feat2.T))))\n"
   ]
  },
  {
   "cell_type": "code",
   "execution_count": 91,
   "metadata": {
    "collapsed": false,
    "scrolled": true
   },
   "outputs": [
    {
     "name": "stdout",
     "output_type": "stream",
     "text": [
      "(2048,)\n",
      "/home/deep/Documents/zongzuo/pythoncodes/leaders_old/leaders_images/习近平/单人/1fec6730e3367d87ba2b2c694c8151f3.jpg\n",
      "(2048,)\n",
      "/home/deep/Documents/zongzuo/pythoncodes/leaders_old/leaders_images/习近平/单人/e1d79e4946eeb1667ae8e2d2ec3c9942.png\n",
      "(2048,)\n",
      "/home/deep/Documents/zongzuo/pythoncodes/leaders_old/leaders_images/习近平/单人/a0e386e4fdfcfc3748e35aeadf1be700.jpg\n",
      "(2048,)\n",
      "/home/deep/Documents/zongzuo/pythoncodes/leaders_old/leaders_images/习近平/单人/a44a3b474545e2d55e1adb14ded80ca4.jpg\n",
      "(2048,)\n",
      "/home/deep/Documents/zongzuo/pythoncodes/leaders_old/leaders_images/习近平/单人/1879de469eb211daf6f36178bc9a9de6.jpg\n",
      "(2048,)\n",
      "/home/deep/Documents/zongzuo/pythoncodes/leaders_old/leaders_images/习近平/单人/1f2113225dfc0c92840630da5d96f2c2.jpg\n",
      "(2048,)\n",
      "/home/deep/Documents/zongzuo/pythoncodes/leaders_old/leaders_images/习近平/单人/725cda98830737975679853718e3e954.jpg\n",
      "(2048,)\n",
      "/home/deep/Documents/zongzuo/pythoncodes/leaders_old/leaders_images/习近平/单人/bbec8157d7e1978bb67c7745c1c110ac.jpg\n",
      "(2048,)\n",
      "/home/deep/Documents/zongzuo/pythoncodes/leaders_old/leaders_images/习近平/单人/597abd2f4da2b5e3525fe051a965ef2c.jpg\n",
      "(2048,)\n",
      "/home/deep/Documents/zongzuo/pythoncodes/leaders_old/leaders_images/习近平/单人/1dc905220b766b42bfde5fdf9894e15e.jpg\n",
      "(2048,)\n",
      "/home/deep/Documents/zongzuo/pythoncodes/leaders_old/leaders_images/习近平/单人/096e5829344501c7ef80683b64cd461d.jpg\n",
      "(2048,)\n",
      "/home/deep/Documents/zongzuo/pythoncodes/leaders_old/leaders_images/习近平/单人/f16065f3ef8184d4bd3d2079c716cb79.jpg\n",
      "(2048,)\n",
      "/home/deep/Documents/zongzuo/pythoncodes/leaders_old/leaders_images/习近平/单人/de5103242c970490f17b0772b82c7587.jpg\n",
      "(2048,)\n",
      "/home/deep/Documents/zongzuo/pythoncodes/leaders_old/leaders_images/习近平/单人/a74c0db70cc258626118e7f8bfe3a754.jpg\n",
      "(2048,)\n",
      "/home/deep/Documents/zongzuo/pythoncodes/leaders_old/leaders_images/习近平/单人/d964cc13cd9518488d893dc3a9d79fd9.jpg\n",
      "(2048,)\n",
      "/home/deep/Documents/zongzuo/pythoncodes/leaders_old/leaders_images/习近平/单人/e55e57ec3f74201fcd832bcc2bda98dd.jpg\n",
      "(2048,)\n",
      "/home/deep/Documents/zongzuo/pythoncodes/leaders_old/leaders_images/习近平/单人/917c0de54637cb846eb49fc834d88269.jpg\n"
     ]
    }
   ],
   "source": [
    "#/usr/bin/python\n",
    "\"\"\"This cell ......\n",
    "\n",
    "\"\"\"\n",
    "\n",
    "import os\n",
    "import numpy as np\n",
    "\n",
    "img_root = '/home/deep/Documents/zongzuo/pythoncodes/leaders_old/leaders_images/习近平/单人/'\n",
    "\n",
    "FeatList = []\n",
    "for roots, dirs, fils in os.walk(img_root):\n",
    "    for fil in fils:\n",
    "#         print roots, fil\n",
    "        featlist = getSeetaFeature(os.path.join(roots, fil))\n",
    "        print os.path.join(roots, fil)\n",
    "        assert len(featlist) == 1 # ensure there is only 1 person in the image\n",
    "        FeatList += featlist"
   ]
  },
  {
   "cell_type": "code",
   "execution_count": 94,
   "metadata": {
    "collapsed": false
   },
   "outputs": [
    {
     "name": "stdout",
     "output_type": "stream",
     "text": [
      "16 13\n",
      "0.715889498216\n"
     ]
    }
   ],
   "source": [
    "from random import randint\n",
    "i = randint(0, len(FeatList) - 1)\n",
    "j = randint(0, len(FeatList) - 1)\n",
    "print i, j\n",
    "# print len(FeatList[i])\n",
    "print CalcSimilarity(FeatList[i], FeatList[j])"
   ]
  },
  {
   "cell_type": "code",
   "execution_count": null,
   "metadata": {
    "collapsed": false
   },
   "outputs": [
    {
     "name": "stdout",
     "output_type": "stream",
     "text": [
      "0\n",
      "1\n",
      "2\n",
      "3\n",
      "4\n"
     ]
    },
    {
     "name": "stderr",
     "output_type": "stream",
     "text": [
      "\n",
      "KeyboardInterrupt\n",
      "\n"
     ]
    }
   ],
   "source": [
    "\"\"\"This cell extracts features for both training and validation images, and \n",
    "store the extracted results in a .npy file.\n",
    "\n",
    "\"\"\"\n",
    "import numpy as np\n",
    "\n",
    "img_root = '/home/deep/develop/caffe/data/politics_project_data/data_11_16/images/'\n",
    "extractedfeatures = np.zeros(shape = (1167, 2048))\n",
    "for i in xrange(1167):\n",
    "    img_path = img_root+str(i+1)+'.jpg'\n",
    "    featurelist = getSeetaFeature(img_path)\n",
    "    if len(featurelist) > 0:\n",
    "        extractedfeatures[i,:] = featurelist[0]  #Assume there is only 1 face in the picture\n",
    "    else:\n",
    "        extractedfeatures[i,:] = -1\n",
    "    print i\n",
    "np.save('data_11_16_extractedfeatures.npy', extractedfeatures)"
   ]
  },
  {
   "cell_type": "code",
   "execution_count": 2,
   "metadata": {
    "collapsed": false
   },
   "outputs": [],
   "source": [
    "#!/usr/bin/python\n",
    "\"\"\"This cell merges several .npy into a single .npy\n",
    "\n",
    "\"\"\"\n",
    "\n",
    "import numpy as np\n",
    "\n",
    "path1 = '/home/deep/Documents/zongzuo/pythoncodes/politics_project/data_11_16_extractedfeatures_0_200.npy'\n",
    "path2 = '/home/deep/Documents/zongzuo/pythoncodes/politics_project/data_11_16_extractedfeatures_200_400.npy'\n",
    "path3 = '/home/deep/Documents/zongzuo/pythoncodes/politics_project/data_11_16_extractedfeatures_400_600.npy'\n",
    "path4 = '/home/deep/Documents/zongzuo/pythoncodes/politics_project/data_11_16_extractedfeatures_600_800.npy'\n",
    "path5 = '/home/deep/Documents/zongzuo/pythoncodes/politics_project/data_11_16_extractedfeatures_800_1000.npy'\n",
    "path6 = '/home/deep/Documents/zongzuo/pythoncodes/politics_project/data_11_16_extractedfeatures_1000_1167.npy'\n",
    "\n",
    "MatMerge = np.zeros(shape = (1167, 2048))\n",
    "MatMerge[0 : 200, :] = np.load(path1)[0 : 200, :]\n",
    "MatMerge[200 : 400, :] = np.load(path2)[200 : 400, :]\n",
    "MatMerge[400 : 600, :] = np.load(path3)[400 : 600, :]\n",
    "MatMerge[600 : 800, :] = np.load(path4)[600 : 800, :]\n",
    "MatMerge[800 : 1000, :] = np.load(path5)[800 : 1000, :]\n",
    "MatMerge[1000 : 1167, :] = np.load(path6)[1000 : 1167, :]\n",
    "\n",
    "np.save('/home/deep/Documents/zongzuo/pythoncodes/politics_project/data_11_16_extractedfeatures_0_1167.npy', MatMerge)"
   ]
  },
  {
   "cell_type": "code",
   "execution_count": null,
   "metadata": {
    "collapsed": true
   },
   "outputs": [],
   "source": [
    "#!/usr/bin/python\n",
    "\"\"\"This cell converts the XXX.jpg in annotation files 'train.txt' and \n",
    "'validation.txt' into consecutive IDs for easier .npy indexing. The \n",
    "results are written into file 'train_c.txt' and 'validation_c.txt'.\n",
    "\n",
    "\"\"\"\n",
    "\n",
    "import os\n"
   ]
  },
  {
   "cell_type": "code",
   "execution_count": 209,
   "metadata": {
    "collapsed": false,
    "scrolled": true
   },
   "outputs": [],
   "source": [
    "#!/usr/bin/python\n",
    "\"\"\"This cell runs a test over data_11_16。\n",
    "\n",
    "\"\"\"\n",
    "\n",
    "import numpy as np\n",
    "\n",
    "ext_feat = np.load('/home/deep/Documents/zongzuo/pythoncodes/politics_project/data_11_16_extractedfeatures_0_1167.npy')\n",
    "\n",
    "# Get ground truth labels, stored in a N*2 label_matrix, the first coloum \n",
    "# is XXX which comes from 'XXX.jpg', the second coloum is the ground truth label\n",
    "label_matrix = np.ones(shape = (1047, 2)).astype('int32');\n",
    "gt_count = 0\n",
    "with open('/home/deep/develop/caffe/data/politics_project_data/data_11_16/train.txt') as gt_file:\n",
    "    for line in gt_file:\n",
    "        line = line.strip()\n",
    "        if line.find('.jpg') >= 0:\n",
    "            label_matrix[gt_count, 0] = int(line.split('.jpg')[0])\n",
    "        else:\n",
    "            if line:  #exclude the last empty line\n",
    "                label_matrix[gt_count, 1] = int(line)\n",
    "                gt_count += 1\n",
    "\n",
    "# Get validation set labels, stored in a N*2 labelmatrix, the first coloum \n",
    "# is XXX which comes from 'XXX.jpg', the second coloum is the ground truth label\n",
    "val_matrix = np.ones(shape = (120, 2)).astype('int32');\n",
    "val_count = 0\n",
    "with open('/home/deep/develop/caffe/data/politics_project_data/data_11_16/validation.txt') as val_file:\n",
    "    for line in val_file:\n",
    "        line = line.strip()\n",
    "        if line.find('.jpg') >= 0:\n",
    "            val_matrix[val_count, 0] = int(line.split('.jpg')[0])\n",
    "        else:\n",
    "            if line:  #exclude the last empty line\n",
    "                val_matrix[val_count, 1] = int(line)\n",
    "                val_count += 1\n",
    "\n",
    "# This section converts the XXX from annotation files 'train.txt' and \n",
    "# 'validation.txt' into consecutive IDs for easier .npy indexing.\n",
    "new_label = 0\n",
    "label_matrix2 = label_matrix.copy()\n",
    "val_matrix2 = val_matrix.copy()\n",
    "for comp in xrange(1200):\n",
    "    add_flag = False\n",
    "    for i in xrange(label_matrix.shape[0]):\n",
    "        if label_matrix[i, 0] == comp:\n",
    "            label_matrix2[i, 0] = new_label\n",
    "            add_flag = True\n",
    "            break\n",
    "    for i in xrange(val_matrix.shape[0]):\n",
    "        if val_matrix[i, 0] == comp:\n",
    "            val_matrix2[i, 0] = new_label\n",
    "            add_flag = True\n",
    "            break\n",
    "    if add_flag == True:\n",
    "        new_label += 1\n",
    "#     print comp\n",
    "\n",
    "label_matrix = label_matrix2.copy()\n",
    "val_matrix = val_matrix2.copy()\n"
   ]
  },
  {
   "cell_type": "code",
   "execution_count": 79,
   "metadata": {
    "collapsed": false
   },
   "outputs": [
    {
     "name": "stdout",
     "output_type": "stream",
     "text": [
      "[[   1    7]\n",
      " [   2    7]\n",
      " [   3    7]\n",
      " ..., \n",
      " [1177    8]\n",
      " [1178    8]\n",
      " [1179    8]] \n",
      "\n",
      "[[   0    7]\n",
      " [   1    7]\n",
      " [   2    7]\n",
      " ..., \n",
      " [1164    8]\n",
      " [1165    8]\n",
      " [1166    8]]\n"
     ]
    }
   ],
   "source": [
    "# print label_matrix2[:, :]\n",
    "# print val_matrix2[:, :], new_label#, np.equal(label_matrix, label_matrix2).any()\n",
    "print label_matrix,'\\n'\n",
    "print label_matrix2\n",
    "\n",
    "print"
   ]
  },
  {
   "cell_type": "code",
   "execution_count": 210,
   "metadata": {
    "collapsed": false,
    "scrolled": false
   },
   "outputs": [
    {
     "name": "stdout",
     "output_type": "stream",
     "text": [
      "k =  0 ; Accuracy:  0.0\n",
      "k =  1 ; Accuracy:  0.791666666667\n",
      "k =  2 ; Accuracy:  0.8\n",
      "k =  3 ; Accuracy:  0.833333333333\n",
      "k =  4 ; Accuracy:  0.858333333333\n",
      "k =  5 ; Accuracy:  0.858333333333\n",
      "k =  6 ; Accuracy:  0.85\n",
      "k =  7 ; Accuracy:  0.841666666667\n",
      "k =  8 ; Accuracy:  0.841666666667\n",
      "k =  9 ; Accuracy:  0.841666666667\n",
      "k =  10 ; Accuracy:  0.833333333333\n",
      "k =  11 ; Accuracy:  0.833333333333\n",
      "k =  12 ; Accuracy:  0.833333333333\n",
      "k =  13 ; Accuracy:  0.833333333333\n",
      "k =  14 ; Accuracy:  0.833333333333\n",
      "k =  15 ; Accuracy:  0.833333333333\n",
      "k =  16 ; Accuracy:  0.833333333333\n",
      "k =  17 ; Accuracy:  0.833333333333\n",
      "k =  18 ; Accuracy:  0.833333333333\n",
      "k =  19 ; Accuracy:  0.833333333333\n",
      "k =  20 ; Accuracy:  0.833333333333\n",
      "k =  21 ; Accuracy:  0.833333333333\n",
      "k =  22 ; Accuracy:  0.833333333333\n",
      "k =  23 ; Accuracy:  0.841666666667\n",
      "k =  24 ; Accuracy:  0.841666666667\n",
      "k =  25 ; Accuracy:  0.833333333333\n",
      "k =  26 ; Accuracy:  0.841666666667\n",
      "k =  27 ; Accuracy:  0.841666666667\n",
      "k =  28 ; Accuracy:  0.841666666667\n",
      "k =  29 ; Accuracy:  0.841666666667\n"
     ]
    }
   ],
   "source": [
    "def get_cos_distance(gt_matrix, input_vector):\n",
    "    \"\"\" A function that compares an input image with all the labelled \n",
    "    images (cacluating similarities) using cosine distance.\n",
    "    \n",
    "    Args:\n",
    "        gt_matrix: A N*k matrix, each row is a sample with k dimensions.\n",
    "        input_vector: A 1*k matrix.\n",
    "    \n",
    "    Returns:\n",
    "        dis_matrix: A N*1 matrix, each row represents the cosine distance \n",
    "            between the input_vector and the corresponding gt_matrix.\n",
    "    \"\"\"\n",
    "    number = gt_matrix.shape[0]\n",
    "    dis_matrix = np.zeros(shape = (number, 1))\n",
    "    cmpa = -1 * np.ones(shape = (1, 2048))\n",
    "    for i in xrange(number):\n",
    "        if not np.equal(gt_matrix[i, :], cmpa).any(): \n",
    "            dis_matrix[i, 0] = float(np.dot(gt_matrix[i, :], input_vector.T) / \n",
    "                                     (np.sqrt(np.dot(gt_matrix[i, :], gt_matrix[i, :].T)) *\n",
    "                                      np.sqrt(np.dot(input_vector, input_vector.T)))\n",
    "                                    )\n",
    "        else:\n",
    "            dis_matrix[i, 0] = -999\n",
    "    return dis_matrix\n",
    "\n",
    "\n",
    "def assign_labels(dis_vector, label_vector, k = 5):\n",
    "    \"\"\" A function that prints out the assigned label.\n",
    "    \n",
    "    Args:\n",
    "        dis_vector: A N*1 vector, each row represents the distance (float).\n",
    "        label_vector: A N*1 vector, each row represents the label (int) which \n",
    "            corresponds to the dis_vector.\n",
    "    \n",
    "    Returns:\n",
    "        label: the label which is dominant (e.g weighted sum) within the top-k (smallest distance).\n",
    "    \"\"\"\n",
    "    assert dis_vector.shape == label_vector.shape\n",
    "    assert dis_vector.shape[1] == 1\n",
    "    \n",
    "    dis_label = np.hstack((dis_vector, label_vector))\n",
    "    sorted_matrix = dis_label[dis_label[:, 0].argsort(), :][::-1, :]\n",
    "\n",
    "    label_scores = {}\n",
    "    for i in xrange(k):\n",
    "        if not label_scores.has_key(str(sorted_matrix[i, 1])):\n",
    "            label_scores[str(sorted_matrix[i, 1])] = 0\n",
    "        label_scores[str(sorted_matrix[i, 1])] += 1.0 * sorted_matrix[i, 0]\n",
    "    \n",
    "    # Find the label which has the max score.\n",
    "    max_score = -10\n",
    "    out_label = 0\n",
    "    for item in label_scores.iteritems():\n",
    "        label, score = item\n",
    "        if score > max_score:\n",
    "            max_score = score\n",
    "            out_label = label\n",
    "            \n",
    "    return out_label, max_score\n",
    "\n",
    "\n",
    "## Evaluate the accuracy using KNN\n",
    "gt_matrix = ext_feat[label_matrix[:, 0], :]\n",
    "\n",
    "for k in xrange(30):\n",
    "    confusion_matrix = np.zeros(shape = (15, 15)).astype('int32')\n",
    "    for i in xrange(val_matrix.shape[0]):\n",
    "        val_vector = ext_feat[val_matrix[i, 0], :]\n",
    "        out_label, max_score = assign_labels(get_cos_distance(gt_matrix, val_vector), \n",
    "                                  label_matrix[:, 1].reshape(label_matrix.shape[0], 1), k)\n",
    "        confusion_matrix[int(val_matrix[i, 1]), int(float(out_label))] += 1\n",
    "        #     print i\n",
    "    #     print out_label, max_score\n",
    "#     print confusion_matrix\n",
    "    print 'k = ', k, '; Accuracy: ', float(sum(confusion_matrix[xrange(15),xrange(15)])) / sum(sum(confusion_matrix))\n"
   ]
  },
  {
   "cell_type": "code",
   "execution_count": 244,
   "metadata": {
    "collapsed": false
   },
   "outputs": [],
   "source": [
    "#!/usr/bin/python\n",
    "\"\"\"This file defines utility functions for calculating metrics. \n",
    "Reference: \n",
    "https://github.com/vyokky/NILM-Project/blob/master/deep-nilm/tookits/nilm_metric.py\n",
    "\"\"\"\n",
    "\n",
    "import numpy as np\n",
    "\n",
    "def get_TP(target, prediction, threshold):\n",
    "    \"\"\"Computes the number of true positive.\n",
    "    \n",
    "    Args:\n",
    "        target: Groud truth , n*1, <numpy.ndarray>\n",
    "        prediction: Prediction, n*1, <numpy.ndarray>\n",
    "        threshold: Threshold, <float>\n",
    "    Returns:\n",
    "        tp: Number of true positives <int>.\n",
    "    \"\"\"\n",
    "    assert target.shape == prediction.shape\n",
    "    assert target.shape[1] == 1\n",
    "    \n",
    "    target = 1-np.clip(target, threshold, 0)/threshold\n",
    "    prediction = 1-np.clip(prediction, threshold, 0)/threshold\n",
    "    \n",
    "    tp_array = np.logical_and(target,prediction)*1.0\n",
    "    tp = int(np.sum(tp_array))\n",
    "    \n",
    "    return tp\n",
    "\n",
    "def get_FP(target, prediction, threshold):\n",
    "    \"\"\"Computes the number of true positive.\n",
    "    \n",
    "    Args:\n",
    "        target: Groud truth , n*1, <numpy.ndarray>\n",
    "        prediction: Prediction, n*1, <numpy.ndarray>\n",
    "        threshold: Threshold, <float>\n",
    "    Returns:\n",
    "        fp: Number of false positives <int>.\n",
    "    \"\"\"\n",
    "    \n",
    "    assert (target.shape == prediction.shape)\n",
    "    \n",
    "    target = np.clip(target, threshold, 0)/threshold\n",
    "    prediction = 1-np.clip(prediction, threshold, 0)/threshold\n",
    "    \n",
    "    fp_array = np.logical_and(target,prediction)*1.0\n",
    "    fp = int(np.sum(fp_array))\n",
    "    \n",
    "    return fp\n",
    "\n",
    "def get_FN(target, prediction, threshold):\n",
    "    \"\"\"Computes the number of true positive.\n",
    "    \n",
    "    Args:\n",
    "        target: Groud truth , n*1, <numpy.ndarray>\n",
    "        prediction: Prediction, n*1, <numpy.ndarray>\n",
    "        threshold: Threshold, <float>\n",
    "    Returns:\n",
    "        fn: Number of false negatives <int>.\n",
    "    \"\"\"\n",
    "    \n",
    "    assert (target.shape == prediction.shape)\n",
    "    \n",
    "    target = 1-np.clip(target, threshold, 0)/threshold\n",
    "    prediction = np.clip(prediction, threshold, 0)/threshold\n",
    "    \n",
    "    fn_array = np.logical_and(target,prediction)*1.0\n",
    "    fn = int(np.sum(fn_array))\n",
    "    \n",
    "    return fn\n",
    "\n",
    "\n",
    "def get_TN(target, prediction, threshold):\n",
    "    \"\"\"Computes the number of true positive.\n",
    "    \n",
    "    Args:\n",
    "        target: Groud truth , n*1, <numpy.ndarray>\n",
    "        prediction: Prediction, n*1, <numpy.ndarray>\n",
    "        threshold: Threshold, <float>\n",
    "    Returns:\n",
    "        tn: Number of true negatives <int>.\n",
    "    \"\"\"\n",
    "    \n",
    "    assert (target.shape == prediction.shape)\n",
    "    \n",
    "    target = np.clip(target, threshold, 0)/threshold\n",
    "    prediction = np.clip(prediction, threshold, 0)/threshold\n",
    "    \n",
    "    tn_array = np.logical_and(target,prediction)*1.0\n",
    "    tn = int(np.sum(tn_array))\n",
    "    \n",
    "    return tn\n",
    "\n",
    "def get_recall(target, prediction, threshold):\n",
    "    \"\"\"Computes the number of true positive.\n",
    "    \n",
    "    Args:\n",
    "        target: Groud truth , n*1, <numpy.ndarray>\n",
    "        prediction: Prediction, n*1, <numpy.ndarray>\n",
    "        threshold: Threshold, <float>\n",
    "    Returns:\n",
    "        recall: Recall rate <float>.\n",
    "    \"\"\"\n",
    "    \n",
    "    tp = get_TP(target, prediction, threshold)\n",
    "    fn = get_FN(target, prediction, threshold)\n",
    "    \n",
    "    recall = tp/(tp+fn)\n",
    "    return recall\n",
    "\n",
    "def get_precision(target, prediction, threshold):\n",
    "    \"\"\"Computes the number of true positive.\n",
    "    \n",
    "    Args:\n",
    "        target: Groud truth , n*1, <numpy.ndarray>\n",
    "        prediction: Prediction, n*1, <numpy.ndarray>\n",
    "        threshold: Threshold, <float>\n",
    "    Returns:\n",
    "        precision: Precision <float>.\n",
    "    \"\"\"\n",
    "    \n",
    "    tp = get_TP(target, prediction, threshold)\n",
    "    fp = get_FP(target, prediction, threshold)\n",
    "    \n",
    "    precision = tp / (tp + fp)\n",
    "    return precision\n",
    "\n",
    "def get_F1(target, prediction, threshold):\n",
    "    \"\"\"Computes the number of true positive.\n",
    "    \n",
    "    Args:\n",
    "        target: Groud truth , n*1, <numpy.ndarray>\n",
    "        prediction: Prediction, n*1, <numpy.ndarray>\n",
    "        threshold: Threshold, <float>\n",
    "    Returns:\n",
    "        f1: F1 score <float>.\n",
    "    \"\"\"\n",
    "   \n",
    "    recall = get_recall(target, prediction, threshold)\n",
    "    precision = get_precision(target, prediction, threshold)\n",
    "    f1 = 2 * precision * recall / (precision + recall)\n",
    "    return f1\n",
    "\n",
    "def get_accuracy(target, prediction, threshold):\n",
    "    \"\"\"Computes the accuracy.\n",
    "    \n",
    "    Args:\n",
    "        target: Groud truth , n*1, <numpy.ndarray>\n",
    "        prediction: Prediction, n*1, <numpy.ndarray>\n",
    "        threshold: Threshold, <float>\n",
    "    Returns:\n",
    "        accuracy: accuracy of predictions correctly assigned <float>.\n",
    "    \"\"\"   \n",
    "\n",
    "    \n",
    "    tp = get_TP(target, prediction, threshold)\n",
    "    tn = get_TN(target, prediction, threshold)\n",
    "    \n",
    "    accuracy = (tp + tn) / target.size\n",
    "    \n",
    "    return accuracy\n"
   ]
  },
  {
   "cell_type": "code",
   "execution_count": 294,
   "metadata": {
    "collapsed": false,
    "scrolled": true
   },
   "outputs": [
    {
     "name": "stdout",
     "output_type": "stream",
     "text": [
      "[[   0    7]\n",
      " [   1    7]\n",
      " [   2    7]\n",
      " ..., \n",
      " [1164    8]\n",
      " [1165    8]\n",
      " [1166    8]]\n",
      "threshold:  0.0\n"
     ]
    },
    {
     "name": "stderr",
     "output_type": "stream",
     "text": [
      "/usr/local/lib/python2.7/dist-packages/ipykernel/__main__.py:22: RuntimeWarning: invalid value encountered in divide\n",
      "/usr/local/lib/python2.7/dist-packages/ipykernel/__main__.py:23: RuntimeWarning: invalid value encountered in divide\n",
      "/usr/local/lib/python2.7/dist-packages/ipykernel/__main__.py:86: RuntimeWarning: invalid value encountered in divide\n",
      "/usr/local/lib/python2.7/dist-packages/ipykernel/__main__.py:87: RuntimeWarning: invalid value encountered in divide\n",
      "/usr/local/lib/python2.7/dist-packages/ipykernel/__main__.py:64: RuntimeWarning: invalid value encountered in divide\n",
      "/usr/local/lib/python2.7/dist-packages/ipykernel/__main__.py:65: RuntimeWarning: invalid value encountered in divide\n",
      "/usr/local/lib/python2.7/dist-packages/ipykernel/__main__.py:43: RuntimeWarning: invalid value encountered in divide\n",
      "/usr/local/lib/python2.7/dist-packages/ipykernel/__main__.py:44: RuntimeWarning: invalid value encountered in divide\n"
     ]
    },
    {
     "name": "stdout",
     "output_type": "stream",
     "text": [
      "threshold:  0.1\n"
     ]
    },
    {
     "name": "stderr",
     "output_type": "stream",
     "text": [
      "/usr/local/lib/python2.7/dist-packages/ipykernel/__main__.py:125: RuntimeWarning: invalid value encountered in double_scalars\n"
     ]
    },
    {
     "name": "stdout",
     "output_type": "stream",
     "text": [
      "threshold:  0.2\n",
      "threshold:  0.3\n",
      "threshold:  0.4\n"
     ]
    },
    {
     "name": "stderr",
     "output_type": "stream",
     "text": [
      "/usr/local/lib/python2.7/dist-packages/ipykernel/__main__.py:141: RuntimeWarning: invalid value encountered in double_scalars\n"
     ]
    },
    {
     "name": "stdout",
     "output_type": "stream",
     "text": [
      "threshold:  0.5\n",
      "threshold:  0.6\n",
      "threshold:  0.7\n",
      "threshold:  0.8\n",
      "threshold:  0.9\n",
      "threshold:  1.0\n",
      "Done!\n"
     ]
    }
   ],
   "source": [
    "#!/usr/bin/python\n",
    "\"\"\"This cell computes metrics for each class with different thresholds.\n",
    "\"\"\"\n",
    "\n",
    "label_vector = label_matrix[:, 1].reshape(-1, 1)\n",
    "print label_matrix\n",
    "\n",
    "threshold_class_metrics = {}\n",
    "for threshold in xrange(0, 11, 1):\n",
    "    class_metrics = {}\n",
    "    threshold = threshold / 10.0\n",
    "    print \"threshold: \", threshold\n",
    "    for i in xrange(1, 15):\n",
    "        metrics = {}\n",
    "        \n",
    "        gt = label_vector.copy()\n",
    "        gt[gt != int(i)] = 0\n",
    "        \n",
    "        accuracy = 0\n",
    "        recall = 0\n",
    "        precision = 0\n",
    "        f1 = 0\n",
    "        for j in xrange(val_matrix.shape[0]):\n",
    "            val_vector = ext_feat[val_matrix[j, 0], :]\n",
    "            \n",
    "            accuracy += np.nan_to_num(get_accuracy(gt, get_cos_distance(gt_matrix, val_vector), threshold))\n",
    "            recall += np.nan_to_num(get_recall(gt, get_cos_distance(gt_matrix, val_vector), threshold))\n",
    "            precision += np.nan_to_num(get_precision(gt, get_cos_distance(gt_matrix, val_vector), threshold))\n",
    "            f1 += np.nan_to_num(get_F1(gt, get_cos_distance(gt_matrix, val_vector), threshold))\n",
    "#             print get_F1(gt, get_cos_distance(gt_matrix, val_vector), threshold)\n",
    "#             if np.isnan(get_F1(gt, get_cos_distance(gt_matrix, val_vector), threshold)):\n",
    "#                 print j\n",
    "#                 print np.isnan(get_F1(gt, get_cos_distance(gt_matrix, val_vector), threshold))\n",
    "\n",
    "        metrics['accuracy'] = accuracy / val_matrix.shape[0]\n",
    "        metrics['recall'] = recall / val_matrix.shape[0]\n",
    "        metrics['precision'] = precision / val_matrix.shape[0]\n",
    "        metrics['f1'] = f1 / val_matrix.shape[0]\n",
    "#         print metrics['precision'], metrics['f1']\n",
    "        \n",
    "        class_metrics['class:' + str(i)] = metrics\n",
    "    threshold_class_metrics['threshold:' + str(threshold)] = class_metrics\n",
    "\n",
    "import cPickle\n",
    "\n",
    "cPickle.dump(threshold_class_metrics, open(\"threshold_class_metrics\",\"wb\"))\n",
    "print 'Done!'"
   ]
  },
  {
   "cell_type": "code",
   "execution_count": 323,
   "metadata": {
    "collapsed": false
   },
   "outputs": [
    {
     "name": "stdout",
     "output_type": "stream",
     "text": [
      "0.0\n"
     ]
    },
    {
     "ename": "AttributeError",
     "evalue": "'str' object has no attribute 'iteritems'",
     "output_type": "error",
     "traceback": [
      "\u001b[0;31m---------------------------------------------------------------------------\u001b[0m",
      "\u001b[0;31mAttributeError\u001b[0m                            Traceback (most recent call last)",
      "\u001b[0;32m<ipython-input-323-51f3003cebd0>\u001b[0m in \u001b[0;36m<module>\u001b[0;34m()\u001b[0m\n\u001b[1;32m     35\u001b[0m \u001b[0mxlabel\u001b[0m\u001b[0;34m(\u001b[0m\u001b[0;34m'Threshold'\u001b[0m\u001b[0;34m)\u001b[0m\u001b[0;34m\u001b[0m\u001b[0m\n\u001b[1;32m     36\u001b[0m \u001b[0mfiglegend\u001b[0m\u001b[0;34m(\u001b[0m\u001b[0;34m[\u001b[0m\u001b[0mlinelist\u001b[0m\u001b[0;34m[\u001b[0m\u001b[0;36m0\u001b[0m\u001b[0;34m]\u001b[0m\u001b[0;34m,\u001b[0m\u001b[0mlinelist\u001b[0m\u001b[0;34m[\u001b[0m\u001b[0;36m1\u001b[0m\u001b[0;34m]\u001b[0m\u001b[0;34m,\u001b[0m \u001b[0mlinelist\u001b[0m\u001b[0;34m[\u001b[0m\u001b[0;36m2\u001b[0m\u001b[0;34m]\u001b[0m\u001b[0;34m,\u001b[0m \u001b[0mlinelist\u001b[0m\u001b[0;34m[\u001b[0m\u001b[0;36m3\u001b[0m\u001b[0;34m]\u001b[0m\u001b[0;34m]\u001b[0m\u001b[0;34m,\u001b[0m \u001b[0;34m[\u001b[0m\u001b[0;34m'F1'\u001b[0m\u001b[0;34m,\u001b[0m\u001b[0;34m'Accuracy'\u001b[0m\u001b[0;34m,\u001b[0m\u001b[0;34m'Recall'\u001b[0m\u001b[0;34m,\u001b[0m\u001b[0;34m'Precision'\u001b[0m\u001b[0;34m]\u001b[0m\u001b[0;34m,\u001b[0m \u001b[0;34m'lower center'\u001b[0m\u001b[0;34m,\u001b[0m \u001b[0mncol\u001b[0m \u001b[0;34m=\u001b[0m \u001b[0;36m4\u001b[0m\u001b[0;34m)\u001b[0m\u001b[0;34m\u001b[0m\u001b[0m\n\u001b[0;32m---> 37\u001b[0;31m \u001b[0mtitle\u001b[0m\u001b[0;34m(\u001b[0m\u001b[0;34m'Metrics for 14 leaders'\u001b[0m\u001b[0;34m,\u001b[0m \u001b[0;34m'upper center'\u001b[0m\u001b[0;34m)\u001b[0m\u001b[0;34m\u001b[0m\u001b[0m\n\u001b[0m",
      "\u001b[0;32m/usr/lib/pymodules/python2.7/matplotlib/pyplot.pyc\u001b[0m in \u001b[0;36mtitle\u001b[0;34m(s, *args, **kwargs)\u001b[0m\n\u001b[1;32m   1309\u001b[0m \u001b[0;34m\u001b[0m\u001b[0m\n\u001b[1;32m   1310\u001b[0m     \"\"\"\n\u001b[0;32m-> 1311\u001b[0;31m     \u001b[0ml\u001b[0m \u001b[0;34m=\u001b[0m  \u001b[0mgca\u001b[0m\u001b[0;34m(\u001b[0m\u001b[0;34m)\u001b[0m\u001b[0;34m.\u001b[0m\u001b[0mset_title\u001b[0m\u001b[0;34m(\u001b[0m\u001b[0ms\u001b[0m\u001b[0;34m,\u001b[0m \u001b[0;34m*\u001b[0m\u001b[0margs\u001b[0m\u001b[0;34m,\u001b[0m \u001b[0;34m**\u001b[0m\u001b[0mkwargs\u001b[0m\u001b[0;34m)\u001b[0m\u001b[0;34m\u001b[0m\u001b[0m\n\u001b[0m\u001b[1;32m   1312\u001b[0m     \u001b[0mdraw_if_interactive\u001b[0m\u001b[0;34m(\u001b[0m\u001b[0;34m)\u001b[0m\u001b[0;34m\u001b[0m\u001b[0m\n\u001b[1;32m   1313\u001b[0m     \u001b[0;32mreturn\u001b[0m \u001b[0ml\u001b[0m\u001b[0;34m\u001b[0m\u001b[0m\n",
      "\u001b[0;32m/usr/lib/pymodules/python2.7/matplotlib/axes.pyc\u001b[0m in \u001b[0;36mset_title\u001b[0;34m(self, label, fontdict, loc, **kwargs)\u001b[0m\n\u001b[1;32m   3232\u001b[0m         \u001b[0mtitle\u001b[0m\u001b[0;34m.\u001b[0m\u001b[0mupdate\u001b[0m\u001b[0;34m(\u001b[0m\u001b[0mdefault\u001b[0m\u001b[0;34m)\u001b[0m\u001b[0;34m\u001b[0m\u001b[0m\n\u001b[1;32m   3233\u001b[0m         \u001b[0;32mif\u001b[0m \u001b[0mfontdict\u001b[0m \u001b[0;32mis\u001b[0m \u001b[0;32mnot\u001b[0m \u001b[0mNone\u001b[0m\u001b[0;34m:\u001b[0m\u001b[0;34m\u001b[0m\u001b[0m\n\u001b[0;32m-> 3234\u001b[0;31m             \u001b[0mtitle\u001b[0m\u001b[0;34m.\u001b[0m\u001b[0mupdate\u001b[0m\u001b[0;34m(\u001b[0m\u001b[0mfontdict\u001b[0m\u001b[0;34m)\u001b[0m\u001b[0;34m\u001b[0m\u001b[0m\n\u001b[0m\u001b[1;32m   3235\u001b[0m         \u001b[0mtitle\u001b[0m\u001b[0;34m.\u001b[0m\u001b[0mupdate\u001b[0m\u001b[0;34m(\u001b[0m\u001b[0mkwargs\u001b[0m\u001b[0;34m)\u001b[0m\u001b[0;34m\u001b[0m\u001b[0m\n\u001b[1;32m   3236\u001b[0m         \u001b[0;32mreturn\u001b[0m \u001b[0mtitle\u001b[0m\u001b[0;34m\u001b[0m\u001b[0m\n",
      "\u001b[0;32m/usr/lib/pymodules/python2.7/matplotlib/artist.pyc\u001b[0m in \u001b[0;36mupdate\u001b[0;34m(self, props)\u001b[0m\n\u001b[1;32m    734\u001b[0m         \u001b[0mchanged\u001b[0m \u001b[0;34m=\u001b[0m \u001b[0mFalse\u001b[0m\u001b[0;34m\u001b[0m\u001b[0m\n\u001b[1;32m    735\u001b[0m \u001b[0;34m\u001b[0m\u001b[0m\n\u001b[0;32m--> 736\u001b[0;31m         \u001b[0;32mfor\u001b[0m \u001b[0mk\u001b[0m\u001b[0;34m,\u001b[0m \u001b[0mv\u001b[0m \u001b[0;32min\u001b[0m \u001b[0mprops\u001b[0m\u001b[0;34m.\u001b[0m\u001b[0miteritems\u001b[0m\u001b[0;34m(\u001b[0m\u001b[0;34m)\u001b[0m\u001b[0;34m:\u001b[0m\u001b[0;34m\u001b[0m\u001b[0m\n\u001b[0m\u001b[1;32m    737\u001b[0m             \u001b[0mfunc\u001b[0m \u001b[0;34m=\u001b[0m \u001b[0mgetattr\u001b[0m\u001b[0;34m(\u001b[0m\u001b[0mself\u001b[0m\u001b[0;34m,\u001b[0m \u001b[0;34m'set_'\u001b[0m \u001b[0;34m+\u001b[0m \u001b[0mk\u001b[0m\u001b[0;34m,\u001b[0m \u001b[0mNone\u001b[0m\u001b[0;34m)\u001b[0m\u001b[0;34m\u001b[0m\u001b[0m\n\u001b[1;32m    738\u001b[0m             \u001b[0;32mif\u001b[0m \u001b[0mfunc\u001b[0m \u001b[0;32mis\u001b[0m \u001b[0mNone\u001b[0m \u001b[0;32mor\u001b[0m \u001b[0;32mnot\u001b[0m \u001b[0mcallable\u001b[0m\u001b[0;34m(\u001b[0m\u001b[0mfunc\u001b[0m\u001b[0;34m)\u001b[0m\u001b[0;34m:\u001b[0m\u001b[0;34m\u001b[0m\u001b[0m\n",
      "\u001b[0;31mAttributeError\u001b[0m: 'str' object has no attribute 'iteritems'"
     ]
    },
    {
     "data": {
      "image/png": "[encoded data removed]",
      "text/plain": [
       "<matplotlib.figure.Figure at 0x7f1561220a50>"
      ]
     },
     "metadata": {},
     "output_type": "display_data"
    }
   ],
   "source": [
    "#!/usr/bin/python\n",
    "\"\"\"This cell draws plot from file 'threshold_class_metrics'\n",
    "\"\"\"\n",
    "import cPickle\n",
    "from matplotlib.pyplot import *\n",
    "from matplotlib import *\n",
    "rcParams['figure.figsize'] = (23, 26)\n",
    "%matplotlib inline\n",
    "\n",
    "with open('threshold_class_metrics', 'rb') as f:\n",
    "    threshold_class_metrics = cPickle.load(f)\n",
    "\n",
    "print threshold_class_metrics['threshold:1.0']['class:1']['f1']\n",
    "\n",
    "linelist = {}\n",
    "class_metrics = np.zeros(shape = (4, 10))\n",
    "for i in xrange(1, 15):\n",
    "    for count_t, threshold in enumerate([0.1, 0.2, 0.3, 0.4, 0.5, 0.6, 0.7, 0.8, 0.9, 1.0]):\n",
    "        for count_m, metric in enumerate(['f1', 'accuracy', 'recall', 'precision']):\n",
    "            class_metrics[count_m, count_t] = threshold_class_metrics[\n",
    "                'threshold:' + str(threshold)]['class:' + str(i)][metric]\n",
    "    subplot(3, 5, i)\n",
    "    for count_s, style in enumerate(['r','g','b','k']):\n",
    "        line, = plot(class_metrics[count_s, :], style, linewidth = 1.5)\n",
    "        linelist[count_s] = line\n",
    "        if i > 10:\n",
    "            xticks([1, 5, 9], [0.1, 0.5, 0.9])\n",
    "        else:\n",
    "            xticks([],[])\n",
    "        if i in [1, 6, 11]:\n",
    "            yticks([0, 0.5, 1.0],[0, 0.5, 1.0])\n",
    "        else:\n",
    "            yticks([],[])\n",
    "\n",
    "xlabel('Threshold')\n",
    "figlegend([linelist[0],linelist[1], linelist[2], linelist[3]], ['F1','Accuracy','Recall','Precision'], 'lower center', ncol = 4)\n",
    "title('Metrics for 14 leaders')"
   ]
  },
  {
   "cell_type": "code",
   "execution_count": 309,
   "metadata": {
    "collapsed": false
   },
   "outputs": [
    {
     "name": "stdout",
     "output_type": "stream",
     "text": [
      "Help on function figlegend in module matplotlib.pyplot:\n",
      "\n",
      "figlegend(handles, labels, loc, **kwargs)\n",
      "    Place a legend in the figure.\n",
      "    \n",
      "    *labels*\n",
      "      a sequence of strings\n",
      "    \n",
      "    *handles*\n",
      "      a sequence of :class:`~matplotlib.lines.Line2D` or\n",
      "      :class:`~matplotlib.patches.Patch` instances\n",
      "    \n",
      "    *loc*\n",
      "      can be a string or an integer specifying the legend\n",
      "      location\n",
      "    \n",
      "    A :class:`matplotlib.legend.Legend` instance is returned.\n",
      "    \n",
      "    Example::\n",
      "    \n",
      "      figlegend( (line1, line2, line3),\n",
      "                 ('label1', 'label2', 'label3'),\n",
      "                 'upper right' )\n",
      "    \n",
      "    .. seealso::\n",
      "    \n",
      "       :func:`~matplotlib.pyplot.legend`\n",
      "\n"
     ]
    }
   ],
   "source": [
    "help(figlegend)"
   ]
  },
  {
   "cell_type": "code",
   "execution_count": 280,
   "metadata": {
    "collapsed": false
   },
   "outputs": [
    {
     "name": "stdout",
     "output_type": "stream",
     "text": [
      "[ nan  nan  nan  nan  nan  nan  nan  nan  nan  nan]\n"
     ]
    }
   ],
   "source": [
    "print class_metrics[3,:]"
   ]
  }
 ],
 "metadata": {
  "kernelspec": {
   "display_name": "Python 2",
   "language": "python",
   "name": "python2"
  },
  "language_info": {
   "codemirror_mode": {
    "name": "ipython",
    "version": 2
   },
   "file_extension": ".py",
   "mimetype": "text/x-python",
   "name": "python",
   "nbconvert_exporter": "python",
   "pygments_lexer": "ipython2",
   "version": "2.7.6"
  }
 },
 "nbformat": 4,
 "nbformat_minor": 1
}
