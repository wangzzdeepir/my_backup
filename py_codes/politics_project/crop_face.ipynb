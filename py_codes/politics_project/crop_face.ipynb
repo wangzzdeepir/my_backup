{
 "cells": [
  {
   "cell_type": "code",
   "execution_count": 2,
   "metadata": {
    "collapsed": false
   },
   "outputs": [
    {
     "name": "stdout",
     "output_type": "stream",
     "text": [
      "0\n"
     ]
    },
    {
     "name": "stderr",
     "output_type": "stream",
     "text": [
      "/usr/local/lib/python2.7/dist-packages/ipykernel/__main__.py:38: DeprecationWarning: using a non-integer number instead of an integer will result in an error in the future\n"
     ]
    },
    {
     "name": "stdout",
     "output_type": "stream",
     "text": [
      "2000\n",
      "4000\n",
      "6000\n",
      "8000\n",
      "10000\n",
      "12000\n",
      "14000\n",
      "16000\n",
      "18000\n",
      "20000\n",
      "22000\n",
      "24000\n",
      "26000\n",
      "28000\n",
      "30000\n",
      "Done\n"
     ]
    }
   ],
   "source": [
    "#!/usr/bin/python\n",
    "\"\"\"This cell crops images of UMDFaces using\n",
    "the bounding box in .csv\n",
    "\"\"\"\n",
    "import csv\n",
    "import cv2\n",
    "from random import randint\n",
    "import matplotlib.pyplot as plt\n",
    "%matplotlib inline\n",
    "\n",
    "CSV_SRC = '/home/deep/data/UMDFaces/umdfaces_batch1_1/umdfaces_batch1_ultraface.csv'\n",
    "TXT = '/home/deep/data/UMDFaces/umdfaces_batch1_1/'\n",
    "DST_DIR = '/home/deep/data/UMDFaces/batch_1_cropped/'\n",
    "DST_LIST = '/home/deep/data/UMDFaces/batch_1_cropped/list.txt'\n",
    "\n",
    "SCALE = 1.3\n",
    "rand_seed = randint(0, 1000)\n",
    "\n",
    "with open(CSV_SRC, 'rb') as csvfile:\n",
    "    reader = csv.reader(csvfile)\n",
    "    for i, line in enumerate(reader):\n",
    "#         if i == rand_seed:\n",
    "        if i % 2000 == 0:\n",
    "            print i\n",
    "        if i > 30000:\n",
    "            break\n",
    "        if i >= 1 and i <= 30000:\n",
    "            img_path = TXT + line[1]\n",
    "            x = int(round(float(line[4])))\n",
    "            y = int(round(float(line[5])))\n",
    "            w = int(round(float(line[6])))\n",
    "            h = int(round(float(line[7])))\n",
    "            h, w = max(h,w), max(h,w)\n",
    "\n",
    "            img = cv2.imread(img_path)\n",
    "            new_x = x + int(w / 2) - (w / 2) * SCALE\n",
    "            new_y = y + int(h / 2) - (h / 2) * SCALE - (h / 10) * SCALE\n",
    "            cropped_img = img[new_y : new_y + SCALE * h, new_x : new_x + SCALE * w, :]\n",
    "            if cropped_img.size >= 30*30*3:\n",
    "                cropped_img = cv2.resize(cropped_img, (224, 224), interpolation = cv2.INTER_CUBIC)\n",
    "                img_name = line[1].split('/')[1]\n",
    "                status = cv2.imwrite(DST_DIR + img_name, cropped_img)\n",
    "                with open(DST_LIST, 'a') as dst:\n",
    "                    dst.write(img_path + ' ' + line[0] + '\\n')\n",
    "                \n",
    "#                 print DST_DIR + img_name\n",
    "#                 print i\n",
    "#                 print status\n",
    "\n",
    "print 'Done'"
   ]
  },
  {
   "cell_type": "code",
   "execution_count": 1,
   "metadata": {
    "collapsed": false
   },
   "outputs": [
    {
     "data": {
      "text/plain": [
       "8750"
      ]
     },
     "execution_count": 1,
     "metadata": {},
     "output_type": "execute_result"
    }
   ],
   "source": [
    "3663 + 2761 + 2326"
   ]
  }
 ],
 "metadata": {
  "kernelspec": {
   "display_name": "Python 2",
   "language": "python",
   "name": "python2"
  },
  "language_info": {
   "codemirror_mode": {
    "name": "ipython",
    "version": 2
   },
   "file_extension": ".py",
   "mimetype": "text/x-python",
   "name": "python",
   "nbconvert_exporter": "python",
   "pygments_lexer": "ipython2",
   "version": "2.7.6"
  }
 },
 "nbformat": 4,
 "nbformat_minor": 1
}
